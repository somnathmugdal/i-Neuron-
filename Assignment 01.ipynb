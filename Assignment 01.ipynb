{
 "cells": [
  {
   "cell_type": "markdown",
   "id": "83d2fc20",
   "metadata": {},
   "source": [
    "1. In the below elements which of them are values or an expression? eg:- values can be integer or string and expressions will be mathematical operators.\n",
    "\n",
    "\n",
    "\n",
    "\n",
    "\n",
    "Ans-\n",
    "\n",
    "\n",
    "Values  =  'hello', -87.8, 6   \n",
    "Expressions = * , - , / ,  +\n"
   ]
  },
  {
   "cell_type": "markdown",
   "id": "413d10c0",
   "metadata": {},
   "source": [
    "2. What is the difference between string and variable?\n",
    "\n",
    "\n",
    "Ans-\n",
    "1. Strings are defined as a text value or a plain text.\n",
    "eg. \"My name is Somnath\"\n",
    "2. Variables are entity in which any type of value stored.\n",
    "eg. a = 10, b ='Somnath', c = 7.5"
   ]
  },
  {
   "cell_type": "markdown",
   "id": "a42f53b9",
   "metadata": {},
   "source": [
    "3. Describe three different data types.\n",
    "\n",
    "Ans-\n",
    "\n",
    "1. Integer- It is a numerical type of datatype conatins only numbers values.It also called as int datatype\n",
    "eg. 10, 12, 0, 5, -8, -88\n",
    "\n",
    "2. String- It contains a plain text and called as str as a datatype.\n",
    "eg. 'Somnath', \"Hello, Good Morning\"\n",
    "\n",
    "3. Float - The float datatype contains floating integer numbers.\n",
    "eg. -2.5, 1.5, 55.95"
   ]
  },
  {
   "cell_type": "markdown",
   "id": "1ce6f3ce",
   "metadata": {},
   "source": [
    "4. What is an expression made up of? What do all expressions do?\n",
    "\n",
    "Ans- \n",
    "\n",
    "Expressions made up of operands and operators.\n",
    "\n",
    "Experssions do's many operations like addition,\n",
    "substraction, multiplication, division , modulus, etc.\n"
   ]
  },
  {
   "cell_type": "markdown",
   "id": "a685d2e1",
   "metadata": {},
   "source": [
    "5.This assignment statements, like spam = 10. What is the difference between an expression and a statement?\n",
    "\n"
   ]
  },
  {
   "cell_type": "markdown",
   "id": "d50ff32f",
   "metadata": {},
   "source": [
    "6. After running the following code, what does the variable bacon contain\n",
    "\n",
    "Ans- bacon conatin 23 value."
   ]
  },
  {
   "cell_type": "code",
   "execution_count": 4,
   "id": "86e536c8",
   "metadata": {},
   "outputs": [
    {
     "data": {
      "text/plain": [
       "23"
      ]
     },
     "execution_count": 4,
     "metadata": {},
     "output_type": "execute_result"
    }
   ],
   "source": [
    "bacon = 22\n",
    "bacon + 1"
   ]
  },
  {
   "cell_type": "markdown",
   "id": "606cf958",
   "metadata": {},
   "source": [
    "7. What should the values of the following two terms be?\n",
    "\n",
    "Ans- Two terms contains same value which is 'spamspamspam'\n"
   ]
  },
  {
   "cell_type": "code",
   "execution_count": 5,
   "id": "20407c3d",
   "metadata": {},
   "outputs": [
    {
     "data": {
      "text/plain": [
       "'spamspamspam'"
      ]
     },
     "execution_count": 5,
     "metadata": {},
     "output_type": "execute_result"
    }
   ],
   "source": [
    "'spam' + 'spamspam'"
   ]
  },
  {
   "cell_type": "code",
   "execution_count": 6,
   "id": "05975981",
   "metadata": {},
   "outputs": [
    {
     "data": {
      "text/plain": [
       "'spamspamspam'"
      ]
     },
     "execution_count": 6,
     "metadata": {},
     "output_type": "execute_result"
    }
   ],
   "source": [
    "'spam'*3"
   ]
  },
  {
   "cell_type": "markdown",
   "id": "cf8dbbd7",
   "metadata": {},
   "source": [
    "8. Why is eggs a valid variable name while 100 is invalid?\n",
    "\n",
    "Ans- In Python programming variable name should be start with a character not strat\n",
    "with the numbers so eggs is valid where 100 is invalid"
   ]
  },
  {
   "cell_type": "markdown",
   "id": "da96ffa6",
   "metadata": {},
   "source": [
    "9. What three functions can be used to get the integer, floating-point number, or string\n",
    "version of a value?\n",
    "\n",
    "Ans - \n",
    "Integer: int(),\n",
    "floating : point number: float(),\n",
    "string : str()\n",
    "      "
   ]
  },
  {
   "cell_type": "markdown",
   "id": "c0774dbf",
   "metadata": {},
   "source": [
    "10. Why does this expression cause an error? How can you fix it?\n",
    "\n",
    "\n",
    "&#39;I have eaten &#39; + 99 + &#39; burritos.&#39;\n",
    "\n",
    "\n",
    "Ans-\n",
    "\n",
    "1.Reason:\n",
    "In a python string module the Concatenation strings dosent work with numerical value.\n",
    "2.Solution:\n",
    "for adding or attaching the string we have to put string into single or double quotes."
   ]
  }
 ],
 "metadata": {
  "kernelspec": {
   "display_name": "Python 3 (ipykernel)",
   "language": "python",
   "name": "python3"
  },
  "language_info": {
   "codemirror_mode": {
    "name": "ipython",
    "version": 3
   },
   "file_extension": ".py",
   "mimetype": "text/x-python",
   "name": "python",
   "nbconvert_exporter": "python",
   "pygments_lexer": "ipython3",
   "version": "3.9.7"
  }
 },
 "nbformat": 4,
 "nbformat_minor": 5
}
