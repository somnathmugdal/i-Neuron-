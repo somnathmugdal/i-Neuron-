{
 "cells": [
  {
   "cell_type": "markdown",
   "id": "5ef80e5c",
   "metadata": {},
   "source": [
    "1. What exactly is []?\n",
    "\n",
    "An Empty List"
   ]
  },
  {
   "cell_type": "markdown",
   "id": "24411b19",
   "metadata": {},
   "source": [
    "2. In a list of values stored in a variable called spam, how would you assign the value 'hello' as the third value? (Assume [2, 4, 6, 8, 10] are in spam.)"
   ]
  },
  {
   "cell_type": "code",
   "execution_count": 1,
   "id": "404b11bc",
   "metadata": {},
   "outputs": [],
   "source": [
    "spam = [2,4,6,8,10]"
   ]
  },
  {
   "cell_type": "code",
   "execution_count": 2,
   "id": "039dd09a",
   "metadata": {},
   "outputs": [],
   "source": [
    "spam[2] = \"hello\" #assign hello value to third varibale with index"
   ]
  },
  {
   "cell_type": "code",
   "execution_count": 3,
   "id": "8a0200bf",
   "metadata": {},
   "outputs": [
    {
     "data": {
      "text/plain": [
       "[2, 4, 'hello', 8, 10]"
      ]
     },
     "execution_count": 3,
     "metadata": {},
     "output_type": "execute_result"
    }
   ],
   "source": [
    "spam"
   ]
  },
  {
   "cell_type": "markdown",
   "id": "a58d193f",
   "metadata": {},
   "source": [
    "Let's pretend the spam includes the list ['a', 'b', 'c', 'd'] for the next three queries."
   ]
  },
  {
   "cell_type": "code",
   "execution_count": 4,
   "id": "c58177b1",
   "metadata": {},
   "outputs": [],
   "source": [
    "spam = ['a', 'b', 'c', 'd']"
   ]
  },
  {
   "cell_type": "code",
   "execution_count": 5,
   "id": "9a22f4d9",
   "metadata": {},
   "outputs": [
    {
     "data": {
      "text/plain": [
       "['a', 'b', 'c', 'd']"
      ]
     },
     "execution_count": 5,
     "metadata": {},
     "output_type": "execute_result"
    }
   ],
   "source": [
    "spam"
   ]
  },
  {
   "cell_type": "markdown",
   "id": "925c2bab",
   "metadata": {},
   "source": [
    "3. What is the value of spam[int(int('3' * 2) / 11)]?"
   ]
  },
  {
   "cell_type": "code",
   "execution_count": 6,
   "id": "ba53a0ad",
   "metadata": {},
   "outputs": [
    {
     "data": {
      "text/plain": [
       "'d'"
      ]
     },
     "execution_count": 6,
     "metadata": {},
     "output_type": "execute_result"
    }
   ],
   "source": [
    "spam[int(int('3'*2)/11)] #'3' * 2 = 33 / 11 = 3 and spam[3] = \"d\""
   ]
  },
  {
   "cell_type": "markdown",
   "id": "b8b641f1",
   "metadata": {},
   "source": [
    "4. What is the value of spam[-1]?"
   ]
  },
  {
   "cell_type": "code",
   "execution_count": 7,
   "id": "60ae9166",
   "metadata": {},
   "outputs": [
    {
     "data": {
      "text/plain": [
       "'d'"
      ]
     },
     "execution_count": 7,
     "metadata": {},
     "output_type": "execute_result"
    }
   ],
   "source": [
    "#negative index -1 for d\n",
    "spam[-1] "
   ]
  },
  {
   "cell_type": "markdown",
   "id": "9132f593",
   "metadata": {},
   "source": [
    "5. What is the value of spam[:2]?"
   ]
  },
  {
   "cell_type": "code",
   "execution_count": 8,
   "id": "0ba38ac8",
   "metadata": {},
   "outputs": [
    {
     "data": {
      "text/plain": [
       "['a', 'b']"
      ]
     },
     "execution_count": 8,
     "metadata": {},
     "output_type": "execute_result"
    }
   ],
   "source": [
    "#list slicing : from default value 0 to 2 where 2 is excluding so it returns list element from 0 to 1\n",
    "spam[:2] "
   ]
  },
  {
   "cell_type": "markdown",
   "id": "86ff6304",
   "metadata": {},
   "source": [
    "Let's pretend bacon has the list [3.14, 'cat,' 11, 'cat,' True] for the next three questions."
   ]
  },
  {
   "cell_type": "code",
   "execution_count": 9,
   "id": "9d22371b",
   "metadata": {},
   "outputs": [],
   "source": [
    "bacon = [3.14,'cat',11,'cat',True]"
   ]
  },
  {
   "cell_type": "code",
   "execution_count": 10,
   "id": "3b9106bd",
   "metadata": {},
   "outputs": [
    {
     "data": {
      "text/plain": [
       "[3.14, 'cat', 11, 'cat', True]"
      ]
     },
     "execution_count": 10,
     "metadata": {},
     "output_type": "execute_result"
    }
   ],
   "source": [
    "bacon"
   ]
  },
  {
   "cell_type": "markdown",
   "id": "321c9d05",
   "metadata": {},
   "source": [
    "6. What is the value of bacon.index('cat')?\n",
    "\n",
    "1"
   ]
  },
  {
   "cell_type": "code",
   "execution_count": 11,
   "id": "e18437e2",
   "metadata": {},
   "outputs": [
    {
     "data": {
      "text/plain": [
       "1"
      ]
     },
     "execution_count": 11,
     "metadata": {},
     "output_type": "execute_result"
    }
   ],
   "source": [
    "bacon.index('cat')"
   ]
  },
  {
   "cell_type": "markdown",
   "id": "d67bee93",
   "metadata": {},
   "source": [
    "7. How does bacon.append(99) change the look of the list value in bacon?"
   ]
  },
  {
   "cell_type": "code",
   "execution_count": 12,
   "id": "df1fa6f8",
   "metadata": {},
   "outputs": [],
   "source": [
    "bacon.append(99)"
   ]
  },
  {
   "cell_type": "code",
   "execution_count": 13,
   "id": "63fd5edc",
   "metadata": {},
   "outputs": [
    {
     "data": {
      "text/plain": [
       "[3.14, 'cat', 11, 'cat', True, 99]"
      ]
     },
     "execution_count": 13,
     "metadata": {},
     "output_type": "execute_result"
    }
   ],
   "source": [
    "bacon"
   ]
  },
  {
   "cell_type": "markdown",
   "id": "2965c20f",
   "metadata": {},
   "source": [
    "After appending the 99 value it adds the value in the bacon at the end of the list"
   ]
  },
  {
   "cell_type": "markdown",
   "id": "ad81d674",
   "metadata": {},
   "source": [
    "8. How does bacon.remove('cat') change the look of the list in bacon?"
   ]
  },
  {
   "cell_type": "code",
   "execution_count": 14,
   "id": "11a7af54",
   "metadata": {},
   "outputs": [
    {
     "data": {
      "text/plain": [
       "[3.14, 'cat', 11, 'cat', True, 99]"
      ]
     },
     "execution_count": 14,
     "metadata": {},
     "output_type": "execute_result"
    }
   ],
   "source": [
    "bacon"
   ]
  },
  {
   "cell_type": "code",
   "execution_count": 15,
   "id": "d88065fc",
   "metadata": {},
   "outputs": [],
   "source": [
    "bacon.remove('cat')"
   ]
  },
  {
   "cell_type": "code",
   "execution_count": 16,
   "id": "bb1d13fd",
   "metadata": {},
   "outputs": [
    {
     "data": {
      "text/plain": [
       "[3.14, 11, 'cat', True, 99]"
      ]
     },
     "execution_count": 16,
     "metadata": {},
     "output_type": "execute_result"
    }
   ],
   "source": [
    "bacon"
   ]
  },
  {
   "cell_type": "markdown",
   "id": "d2a0f04b",
   "metadata": {},
   "source": [
    "The bacon.remove('cat') delete or remove the frist occurence of the cat value from the list"
   ]
  },
  {
   "cell_type": "markdown",
   "id": "46a4082e",
   "metadata": {},
   "source": [
    "9. What are the list concatenation and list replication operators?"
   ]
  },
  {
   "cell_type": "markdown",
   "id": "efd44910",
   "metadata": {},
   "source": [
    "list concatenation : +\n",
    "    \n",
    "list replication : *"
   ]
  },
  {
   "cell_type": "markdown",
   "id": "ec39b133",
   "metadata": {},
   "source": [
    "10. What is difference between the list methods append() and insert()?"
   ]
  },
  {
   "cell_type": "code",
   "execution_count": 48,
   "id": "3e17415d",
   "metadata": {},
   "outputs": [],
   "source": [
    "list = [1,2,3]"
   ]
  },
  {
   "cell_type": "code",
   "execution_count": 49,
   "id": "3ef4025a",
   "metadata": {},
   "outputs": [],
   "source": [
    "list.append(9)"
   ]
  },
  {
   "cell_type": "code",
   "execution_count": 50,
   "id": "6fe8a501",
   "metadata": {},
   "outputs": [
    {
     "data": {
      "text/plain": [
       "[1, 2, 3, 9]"
      ]
     },
     "execution_count": 50,
     "metadata": {},
     "output_type": "execute_result"
    }
   ],
   "source": [
    "list"
   ]
  },
  {
   "cell_type": "code",
   "execution_count": 51,
   "id": "57b4e0b2",
   "metadata": {},
   "outputs": [],
   "source": [
    "list.insert(2,5) #two arguments (position,value)"
   ]
  },
  {
   "cell_type": "code",
   "execution_count": 52,
   "id": "a00a89c9",
   "metadata": {},
   "outputs": [
    {
     "data": {
      "text/plain": [
       "[1, 2, 5, 3, 9]"
      ]
     },
     "execution_count": 52,
     "metadata": {},
     "output_type": "execute_result"
    }
   ],
   "source": [
    "list"
   ]
  },
  {
   "cell_type": "markdown",
   "id": "396bc18d",
   "metadata": {},
   "source": [
    "append(value) - add the value at the end of the list\n",
    "\n",
    "insert(position,value) - adds the value at the defined position of list"
   ]
  },
  {
   "cell_type": "markdown",
   "id": "7728d5f6",
   "metadata": {},
   "source": [
    "11. What are the two methods for removing items from a list?"
   ]
  },
  {
   "cell_type": "markdown",
   "id": "9c9ba83d",
   "metadata": {},
   "source": [
    "list.remove(value) - removes the frist occurence of items by defined value\n",
    "\n",
    "list.pop(index) - removes the items by defined index.default index taken as last item index\n",
    "\n",
    "del statement also to use remove the list"
   ]
  },
  {
   "cell_type": "code",
   "execution_count": 6,
   "id": "15d373ec",
   "metadata": {},
   "outputs": [
    {
     "data": {
      "text/plain": [
       "[1, 2, 3, 4, 56, 6, 9, 8]"
      ]
     },
     "execution_count": 6,
     "metadata": {},
     "output_type": "execute_result"
    }
   ],
   "source": [
    "list = [1,2,3,4,56,6,9,8]\n",
    "list"
   ]
  },
  {
   "cell_type": "code",
   "execution_count": 7,
   "id": "1d7337b6",
   "metadata": {},
   "outputs": [
    {
     "data": {
      "text/plain": [
       "[1, 2, 3, 4, 56, 6, 9]"
      ]
     },
     "execution_count": 7,
     "metadata": {},
     "output_type": "execute_result"
    }
   ],
   "source": [
    "list.pop()\n",
    "list"
   ]
  },
  {
   "cell_type": "code",
   "execution_count": 8,
   "id": "23ea05ba",
   "metadata": {},
   "outputs": [
    {
     "data": {
      "text/plain": [
       "[1, 3, 4, 56, 6, 9]"
      ]
     },
     "execution_count": 8,
     "metadata": {},
     "output_type": "execute_result"
    }
   ],
   "source": [
    "list.pop(1)\n",
    "list"
   ]
  },
  {
   "cell_type": "code",
   "execution_count": 9,
   "id": "34653190",
   "metadata": {},
   "outputs": [],
   "source": [
    "list.remove(6)"
   ]
  },
  {
   "cell_type": "code",
   "execution_count": 10,
   "id": "58ba87c0",
   "metadata": {},
   "outputs": [
    {
     "data": {
      "text/plain": [
       "[1, 3, 4, 56, 9]"
      ]
     },
     "execution_count": 10,
     "metadata": {},
     "output_type": "execute_result"
    }
   ],
   "source": [
    "list"
   ]
  },
  {
   "cell_type": "markdown",
   "id": "8fe32800",
   "metadata": {},
   "source": [
    "12. Describe how list values and string values are identical."
   ]
  },
  {
   "cell_type": "markdown",
   "id": "ea309071",
   "metadata": {},
   "source": [
    "The values in the list is muttable where string values are immutable and the values of strings are of different types where string values only conatains set of character.  "
   ]
  },
  {
   "cell_type": "markdown",
   "id": "2c22b121",
   "metadata": {},
   "source": [
    "13. What's the difference between tuples and lists?"
   ]
  },
  {
   "cell_type": "markdown",
   "id": "fdb88231",
   "metadata": {},
   "source": [
    "Tuples() - Tuples are defined in ( ) curly braces and its unmuttable means can't changable\n",
    "\n",
    "List [] - List is defined in [ ] square brackets and its muttable menas can change,modify."
   ]
  },
  {
   "cell_type": "markdown",
   "id": "77adf043",
   "metadata": {},
   "source": [
    "14. How do you type a tuple value that only contains the integer 42?\n"
   ]
  },
  {
   "cell_type": "code",
   "execution_count": 18,
   "id": "dc4a7435",
   "metadata": {},
   "outputs": [
    {
     "data": {
      "text/plain": [
       "tuple"
      ]
     },
     "execution_count": 18,
     "metadata": {},
     "output_type": "execute_result"
    }
   ],
   "source": [
    "t = (42,)\n",
    "type(t)"
   ]
  },
  {
   "cell_type": "markdown",
   "id": "dec08c12",
   "metadata": {},
   "source": [
    "In curly braces type 42 and then give a comma. "
   ]
  },
  {
   "cell_type": "markdown",
   "id": "b2bb24a5",
   "metadata": {},
   "source": [
    "15. How do you get a list value's tuple form? How do you get a tuple value's list form?"
   ]
  },
  {
   "cell_type": "markdown",
   "id": "f7e614df",
   "metadata": {},
   "source": [
    "tuple(), list() functions"
   ]
  },
  {
   "cell_type": "markdown",
   "id": "b511a7e9",
   "metadata": {},
   "source": [
    "16. Variables that \"contain\" list values are not necessarily lists themselves. Instead, what do they contain?"
   ]
  },
  {
   "cell_type": "markdown",
   "id": "6b0d5020",
   "metadata": {},
   "source": [
    "They conatins refrences to the list values."
   ]
  },
  {
   "cell_type": "markdown",
   "id": "5ea1ffaf",
   "metadata": {},
   "source": [
    "17. How do you distinguish between copy.copy() and copy.deepcopy()?"
   ]
  },
  {
   "cell_type": "markdown",
   "id": "05078bd3",
   "metadata": {},
   "source": [
    "copy.copy() do shallow of the list where copy.deepcopy() do duplicate of any list inside a list."
   ]
  },
  {
   "cell_type": "code",
   "execution_count": null,
   "id": "4aa2ce2a",
   "metadata": {},
   "outputs": [],
   "source": []
  }
 ],
 "metadata": {
  "kernelspec": {
   "display_name": "Python 3 (ipykernel)",
   "language": "python",
   "name": "python3"
  },
  "language_info": {
   "codemirror_mode": {
    "name": "ipython",
    "version": 3
   },
   "file_extension": ".py",
   "mimetype": "text/x-python",
   "name": "python",
   "nbconvert_exporter": "python",
   "pygments_lexer": "ipython3",
   "version": "3.9.7"
  }
 },
 "nbformat": 4,
 "nbformat_minor": 5
}
