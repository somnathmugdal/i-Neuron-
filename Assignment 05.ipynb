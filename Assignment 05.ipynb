{
 "cells": [
  {
   "cell_type": "markdown",
   "id": "7f1a8af9",
   "metadata": {},
   "source": [
    "# Assignment 05"
   ]
  },
  {
   "cell_type": "markdown",
   "id": "959a50bc",
   "metadata": {},
   "source": [
    "### 1. What does an empty dictionary's code look like?\n"
   ]
  },
  {
   "cell_type": "markdown",
   "id": "4f7abf6e",
   "metadata": {},
   "source": [
    "{} , two curly braces."
   ]
  },
  {
   "cell_type": "markdown",
   "id": "bf43ca28",
   "metadata": {},
   "source": [
    "### 2. What is the value of a dictionary value with the key 'foo' and the value 42?\n"
   ]
  },
  {
   "cell_type": "code",
   "execution_count": 13,
   "id": "a32b3ec6",
   "metadata": {},
   "outputs": [],
   "source": [
    "d = {'foo': 42}"
   ]
  },
  {
   "cell_type": "code",
   "execution_count": 14,
   "id": "3b56e6f2",
   "metadata": {},
   "outputs": [
    {
     "data": {
      "text/plain": [
       "{'foo': 42}"
      ]
     },
     "execution_count": 14,
     "metadata": {},
     "output_type": "execute_result"
    }
   ],
   "source": [
    "d"
   ]
  },
  {
   "cell_type": "markdown",
   "id": "991d9434",
   "metadata": {},
   "source": [
    "### 3. What is the most significant distinction between a dictionary and a list?\n"
   ]
  },
  {
   "cell_type": "markdown",
   "id": "8b83c244",
   "metadata": {},
   "source": [
    "Dictionary items are of key value pair type and they are unodered where list contains a multiple of value in an ordered form."
   ]
  },
  {
   "cell_type": "markdown",
   "id": "a11a855d",
   "metadata": {},
   "source": [
    "### 4. What happens if you try to access spam['foo'] if spam is {'bar': 100}?\n"
   ]
  },
  {
   "cell_type": "markdown",
   "id": "98afb25f",
   "metadata": {},
   "source": [
    "KeyError "
   ]
  },
  {
   "cell_type": "markdown",
   "id": "7636498f",
   "metadata": {},
   "source": [
    "### 5. If a dictionary is stored in spam, what is the difference between the expressions 'cat' in spam and 'cat' in spam.keys()?\n"
   ]
  },
  {
   "cell_type": "markdown",
   "id": "6da10f3b",
   "metadata": {},
   "source": [
    "No differece, It is just in operator checks the cat value is in the spam dictionary as a key. "
   ]
  },
  {
   "cell_type": "markdown",
   "id": "ea979e0e",
   "metadata": {},
   "source": [
    "### 6. If a dictionary is stored in spam, what is the difference between the expressions 'cat' in spam and 'cat' in spam.values()?\n"
   ]
  },
  {
   "cell_type": "markdown",
   "id": "8d2accfa",
   "metadata": {},
   "source": [
    "cat in spam checks is there cat as a key where cat in spam.values() checks in the spam dictionary is there any key value is equal to cat or not."
   ]
  },
  {
   "cell_type": "markdown",
   "id": "c455c4c9",
   "metadata": {},
   "source": [
    "### 7. What is a shortcut for the following code?\n",
    "### if 'color' not in spam:\n",
    "### spam['color'] = 'black'\n"
   ]
  },
  {
   "cell_type": "markdown",
   "id": "7fa5831e",
   "metadata": {},
   "source": [
    "spam.setdefault(\"color\",\"black\")"
   ]
  },
  {
   "cell_type": "markdown",
   "id": "7e3e3ba6",
   "metadata": {},
   "source": [
    "### 8. How do you \"pretty print\" dictionary values using which module and function?"
   ]
  },
  {
   "cell_type": "markdown",
   "id": "9c5ffe8b",
   "metadata": {},
   "source": [
    "pprint.pprint()"
   ]
  }
 ],
 "metadata": {
  "kernelspec": {
   "display_name": "Python 3 (ipykernel)",
   "language": "python",
   "name": "python3"
  },
  "language_info": {
   "codemirror_mode": {
    "name": "ipython",
    "version": 3
   },
   "file_extension": ".py",
   "mimetype": "text/x-python",
   "name": "python",
   "nbconvert_exporter": "python",
   "pygments_lexer": "ipython3",
   "version": "3.9.7"
  }
 },
 "nbformat": 4,
 "nbformat_minor": 5
}
