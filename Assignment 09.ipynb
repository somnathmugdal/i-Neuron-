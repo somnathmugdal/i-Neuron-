{
 "cells": [
  {
   "cell_type": "markdown",
   "id": "59982407",
   "metadata": {},
   "source": [
    "# Assignment 09"
   ]
  },
  {
   "cell_type": "markdown",
   "id": "2d19f8c6",
   "metadata": {},
   "source": [
    "### 1. To what does a relative path refer?\n"
   ]
  },
  {
   "cell_type": "markdown",
   "id": "a57227b8",
   "metadata": {},
   "source": [
    "Relative path refers to the location that relative to cuurent dictionary."
   ]
  },
  {
   "cell_type": "markdown",
   "id": "31bfe59d",
   "metadata": {},
   "source": [
    "### 2. What does an absolute path start with your operating system?\n"
   ]
  },
  {
   "cell_type": "markdown",
   "id": "2dbe25bd",
   "metadata": {},
   "source": [
    "The absolute path conatins whole path of file/folder and its starts from the root folder such as C:\\ and ends with subdirectories."
   ]
  },
  {
   "cell_type": "markdown",
   "id": "1adaf090",
   "metadata": {},
   "source": [
    "### 3. What do the functions os.getcwd() and os.chdir() do?\n"
   ]
  },
  {
   "cell_type": "code",
   "execution_count": 4,
   "id": "205ba678",
   "metadata": {},
   "outputs": [
    {
     "data": {
      "text/plain": [
       "'C:\\\\Users\\\\somam\\\\i-Neuron\\\\Assignments\\\\Python Basics'"
      ]
     },
     "execution_count": 4,
     "metadata": {},
     "output_type": "execute_result"
    }
   ],
   "source": [
    "# os.getcwd() returns the current working directory \n",
    "import os\n",
    "os.getcwd()"
   ]
  },
  {
   "cell_type": "markdown",
   "id": "5ccc1bfe",
   "metadata": {},
   "source": [
    "os.chdir() changes the path of current working directory."
   ]
  },
  {
   "cell_type": "markdown",
   "id": "bcd340b0",
   "metadata": {},
   "source": [
    "### 4. What are the . and .. folders?\n"
   ]
  },
  {
   "cell_type": "markdown",
   "id": "fc7f99b3",
   "metadata": {},
   "source": [
    "The . is the current folder and .. is for the parent folder."
   ]
  },
  {
   "cell_type": "markdown",
   "id": "d30fa6a9",
   "metadata": {},
   "source": [
    "### 5. In C:\\bacon\\eggs\\spam.txt, which part is the dir name, and which part is the base name?\n"
   ]
  },
  {
   "cell_type": "markdown",
   "id": "67e6300a",
   "metadata": {},
   "source": [
    "C:\\bacon\\eggs is the dir name where spam.txt is base name."
   ]
  },
  {
   "cell_type": "markdown",
   "id": "d4ec7eae",
   "metadata": {},
   "source": [
    "### 6. What are the three “mode” arguments that can be passed to the open() function?"
   ]
  },
  {
   "cell_type": "markdown",
   "id": "3b403eb6",
   "metadata": {},
   "source": [
    "'w' for write ,'a' for append and 'r' for reading"
   ]
  },
  {
   "cell_type": "markdown",
   "id": "095e2a6d",
   "metadata": {},
   "source": [
    "### 7. What happens if an existing file is opened in write mode?\n"
   ]
  },
  {
   "cell_type": "markdown",
   "id": "7dda0d65",
   "metadata": {},
   "source": [
    "Exiting open file erazed and the content overwritten."
   ]
  },
  {
   "cell_type": "markdown",
   "id": "f8c750ee",
   "metadata": {},
   "source": [
    "### 8. How do you tell the difference between read() and readlines()?\n"
   ]
  },
  {
   "cell_type": "markdown",
   "id": "9cffe40a",
   "metadata": {},
   "source": [
    "read() : returns whole content as a string\n",
    "\n",
    "readlies() : return the content by lines as a string list "
   ]
  },
  {
   "cell_type": "markdown",
   "id": "3d93ac2c",
   "metadata": {},
   "source": [
    "### 9. What data structure does a shelf value resemble?\n"
   ]
  },
  {
   "cell_type": "markdown",
   "id": "8d5f3498",
   "metadata": {},
   "source": [
    "Data structue shelf value resemble the dictionary values;it has keys and values."
   ]
  },
  {
   "cell_type": "code",
   "execution_count": null,
   "id": "49c99637",
   "metadata": {},
   "outputs": [],
   "source": []
  }
 ],
 "metadata": {
  "kernelspec": {
   "display_name": "Python 3 (ipykernel)",
   "language": "python",
   "name": "python3"
  },
  "language_info": {
   "codemirror_mode": {
    "name": "ipython",
    "version": 3
   },
   "file_extension": ".py",
   "mimetype": "text/x-python",
   "name": "python",
   "nbconvert_exporter": "python",
   "pygments_lexer": "ipython3",
   "version": "3.9.7"
  }
 },
 "nbformat": 4,
 "nbformat_minor": 5
}
