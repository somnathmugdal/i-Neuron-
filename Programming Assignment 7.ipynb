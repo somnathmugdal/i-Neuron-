{
 "cells": [
  {
   "cell_type": "markdown",
   "id": "c24c774f",
   "metadata": {},
   "source": [
    "# Programming Assignment 7"
   ]
  },
  {
   "cell_type": "markdown",
   "id": "f6674a08",
   "metadata": {},
   "source": [
    "### Write a Python Program to find sum of array?\n"
   ]
  },
  {
   "cell_type": "code",
   "execution_count": 1,
   "id": "83997df2",
   "metadata": {},
   "outputs": [
    {
     "name": "stdout",
     "output_type": "stream",
     "text": [
      "The Sum of array : 85\n"
     ]
    }
   ],
   "source": [
    "arr = [1,2,3,45,6,8,9,7,2,2]\n",
    "sum = 0\n",
    "for i in range(0,len(arr)):\n",
    "    sum = sum + arr[i]\n",
    "\n",
    "print(f\"The Sum of array : {sum}\")"
   ]
  },
  {
   "cell_type": "markdown",
   "id": "ea209728",
   "metadata": {},
   "source": [
    "### Write a Python Program to find largest element in an array?\n"
   ]
  },
  {
   "cell_type": "code",
   "execution_count": 2,
   "id": "9ac27c6b",
   "metadata": {},
   "outputs": [],
   "source": [
    "arr = [1,8,85,12,4,42,45,4,564,562,65,123]"
   ]
  },
  {
   "cell_type": "code",
   "execution_count": 3,
   "id": "5d229fbd",
   "metadata": {},
   "outputs": [
    {
     "name": "stdout",
     "output_type": "stream",
     "text": [
      "The largest element in an array: 564\n"
     ]
    }
   ],
   "source": [
    "max = arr[0]\n",
    "for i in range(0,len(arr)):\n",
    "    if(arr[i] > max):\n",
    "        max = arr[i];\n",
    "\n",
    "print(f\"The largest element in an array: {max}\")\n",
    "        "
   ]
  },
  {
   "cell_type": "markdown",
   "id": "4b132340",
   "metadata": {},
   "source": [
    "### Write a Python Program for array rotation?\n"
   ]
  },
  {
   "cell_type": "code",
   "execution_count": 4,
   "id": "185b004d",
   "metadata": {},
   "outputs": [],
   "source": [
    "def arrayRotate(arr,d,n):\n",
    "    arr[:]=arr[d:n]+arr[0:d]\n",
    "    return arr"
   ]
  },
  {
   "cell_type": "code",
   "execution_count": 5,
   "id": "0f93a15b",
   "metadata": {},
   "outputs": [
    {
     "name": "stdout",
     "output_type": "stream",
     "text": [
      "[1, 2, 3, 45, 6, 7, 8, 9]\n",
      "Rotated Array: \n",
      "[3, 45, 6, 7, 8, 9, 1, 2]\n"
     ]
    }
   ],
   "source": [
    "arr = [1,2,3,45,6,7,8,9]\n",
    "print(arr)\n",
    "print(\"Rotated Array: \")\n",
    "print(arrayRotate(arr,2,len(arr)))"
   ]
  },
  {
   "cell_type": "markdown",
   "id": "91b66f63",
   "metadata": {},
   "source": [
    "### Write a Python Program to Split the array and add the first part to the end?\n"
   ]
  },
  {
   "cell_type": "code",
   "execution_count": 6,
   "id": "a2d67871",
   "metadata": {},
   "outputs": [],
   "source": [
    "def split_add_array(arr,split_value,n):\n",
    "    split_array = arr[:split_value]\n",
    "    result = arr[split_value:n]+ split_array\n",
    "    return result"
   ]
  },
  {
   "cell_type": "code",
   "execution_count": 7,
   "id": "70466064",
   "metadata": {},
   "outputs": [
    {
     "name": "stdout",
     "output_type": "stream",
     "text": [
      "[1, 2, 3, 4, 5, 6, 7, 8, 9, 1, 0]\n",
      "Result:  [6, 7, 8, 9, 1, 0, 1, 2, 3, 4, 5]\n"
     ]
    }
   ],
   "source": [
    "arr = [1,2,3,4,5,6,7,8,9,1,0]\n",
    "print(arr)\n",
    "print(\"Result: \",split_add_array(arr,5,len(arr)))\n"
   ]
  },
  {
   "cell_type": "markdown",
   "id": "fd02f10d",
   "metadata": {},
   "source": [
    "### Write a Python Program to check if given array is Monotonic?\n"
   ]
  },
  {
   "cell_type": "code",
   "execution_count": 12,
   "id": "091d6949",
   "metadata": {},
   "outputs": [],
   "source": [
    "def isMonotonic(A):\n",
    "    return (all(A[i] <= A[i+1] for i in range(len(A)-1)) or all(A[i] >= A[i+1] for i in range(len(A)-1)))"
   ]
  },
  {
   "cell_type": "code",
   "execution_count": 13,
   "id": "48eee5a5",
   "metadata": {},
   "outputs": [
    {
     "name": "stdout",
     "output_type": "stream",
     "text": [
      "True\n"
     ]
    }
   ],
   "source": [
    "A = [1,2,3,4,5,6]\n",
    "print(isMonotonic(A))"
   ]
  }
 ],
 "metadata": {
  "kernelspec": {
   "display_name": "Python 3 (ipykernel)",
   "language": "python",
   "name": "python3"
  },
  "language_info": {
   "codemirror_mode": {
    "name": "ipython",
    "version": 3
   },
   "file_extension": ".py",
   "mimetype": "text/x-python",
   "name": "python",
   "nbconvert_exporter": "python",
   "pygments_lexer": "ipython3",
   "version": "3.9.7"
  }
 },
 "nbformat": 4,
 "nbformat_minor": 5
}
