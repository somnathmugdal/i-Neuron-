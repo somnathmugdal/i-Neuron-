{
 "cells": [
  {
   "cell_type": "markdown",
   "id": "cc83dc88",
   "metadata": {},
   "source": [
    "# Assignment 03"
   ]
  },
  {
   "cell_type": "markdown",
   "id": "0b6fee07",
   "metadata": {},
   "source": [
    "### 1. Why are functions advantageous to have in your programs?"
   ]
  },
  {
   "cell_type": "markdown",
   "id": "d027252e",
   "metadata": {},
   "source": [
    "Reduce the duplicate code, Easy to read, Easy to Update"
   ]
  },
  {
   "cell_type": "markdown",
   "id": "1f57791d",
   "metadata": {},
   "source": [
    "### 2. When does the code in a function run: when it's specified or when it's called?"
   ]
  },
  {
   "cell_type": "markdown",
   "id": "f412635a",
   "metadata": {},
   "source": [
    "The code in the fuction execute when the function is called not when the function is specified."
   ]
  },
  {
   "cell_type": "markdown",
   "id": "2a7b235c",
   "metadata": {},
   "source": [
    "### 3. What statement creates a function?"
   ]
  },
  {
   "cell_type": "markdown",
   "id": "8ca80fb3",
   "metadata": {},
   "source": [
    "def statment creates a function"
   ]
  },
  {
   "cell_type": "markdown",
   "id": "51fc18a3",
   "metadata": {},
   "source": [
    "### 4. What is the difference between a function and a function call?\n"
   ]
  },
  {
   "cell_type": "markdown",
   "id": "e43b3de0",
   "metadata": {},
   "source": [
    "Function : Function defined as simple format with def keyword and code in def.\n",
    "    \n",
    "Function Call : Its calling the defined function and evalutes return value which in the function."
   ]
  },
  {
   "cell_type": "markdown",
   "id": "7990829a",
   "metadata": {},
   "source": [
    "### 5. How many global scopes are there in a Python program? How many local scopes?\n"
   ]
  },
  {
   "cell_type": "markdown",
   "id": "6cd9467e",
   "metadata": {},
   "source": [
    "There are one global scope where local scope depends on the function call"
   ]
  },
  {
   "cell_type": "markdown",
   "id": "1547b905",
   "metadata": {},
   "source": [
    "### 6. What happens to variables in a local scope when the function call returns?\n"
   ]
  },
  {
   "cell_type": "markdown",
   "id": "90a746b9",
   "metadata": {},
   "source": [
    "when we call the functions local scopes are destroyed and all the variales in it erased."
   ]
  },
  {
   "cell_type": "markdown",
   "id": "3f7828c8",
   "metadata": {},
   "source": [
    "### 7. What is the concept of a return value? Is it possible to have a return value in an expression?\n"
   ]
  },
  {
   "cell_type": "markdown",
   "id": "35ac6f8a",
   "metadata": {},
   "source": [
    "Return is same as the print function but it return any value with its specific datatype and yes it is possible to have a return value in an expression"
   ]
  },
  {
   "cell_type": "markdown",
   "id": "4d15f814",
   "metadata": {},
   "source": [
    "### 8. If a function does not have a return statement, what is the return value of a call to that function?\n"
   ]
  },
  {
   "cell_type": "markdown",
   "id": "386aec68",
   "metadata": {},
   "source": [
    "The return value of the function is None"
   ]
  },
  {
   "cell_type": "markdown",
   "id": "20eec767",
   "metadata": {},
   "source": [
    "### 9. How do you make a function variable refer to the global variable?\n"
   ]
  },
  {
   "cell_type": "markdown",
   "id": "17e63e24",
   "metadata": {},
   "source": [
    "With the help of **global** keyword we make a function variable refers to the gloabal varibale."
   ]
  },
  {
   "cell_type": "markdown",
   "id": "64b5b6d3",
   "metadata": {},
   "source": [
    "### 10. What is the data type of None?\n"
   ]
  },
  {
   "cell_type": "markdown",
   "id": "bf317132",
   "metadata": {},
   "source": [
    "The data type of None is **Nonetype**."
   ]
  },
  {
   "cell_type": "markdown",
   "id": "ca1b7225",
   "metadata": {},
   "source": [
    "### 11. What does the sentence import areallyourpetsnamederic do?\n"
   ]
  },
  {
   "cell_type": "markdown",
   "id": "243330ce",
   "metadata": {},
   "source": [
    "It imports a module/library which is areallyourpetsnamederic."
   ]
  },
  {
   "cell_type": "markdown",
   "id": "4b2123bd",
   "metadata": {},
   "source": [
    "### 12. If you had a bacon() feature in a spam module, what would you call it after importing spam?\n"
   ]
  },
  {
   "cell_type": "markdown",
   "id": "90f2b991",
   "metadata": {},
   "source": [
    "spam.bacon()"
   ]
  },
  {
   "cell_type": "markdown",
   "id": "be1251ac",
   "metadata": {},
   "source": [
    "### 13. What can you do to save a programme from crashing if it encounters an error?\n"
   ]
  },
  {
   "cell_type": "markdown",
   "id": "908f41e2",
   "metadata": {},
   "source": [
    "exception handling through try block"
   ]
  },
  {
   "cell_type": "markdown",
   "id": "df0e450a",
   "metadata": {},
   "source": [
    "### 14. What is the purpose of the try clause? What is the purpose of the except clause?\n"
   ]
  },
  {
   "cell_type": "markdown",
   "id": "3af7ed81",
   "metadata": {},
   "source": [
    "try : this clause runs the code if there is some error in the code.\n",
    "    \n",
    "except : handle or manage the error with multiple ways."
   ]
  },
  {
   "cell_type": "code",
   "execution_count": null,
   "id": "5a174a7e",
   "metadata": {},
   "outputs": [],
   "source": []
  }
 ],
 "metadata": {
  "kernelspec": {
   "display_name": "Python 3 (ipykernel)",
   "language": "python",
   "name": "python3"
  },
  "language_info": {
   "codemirror_mode": {
    "name": "ipython",
    "version": 3
   },
   "file_extension": ".py",
   "mimetype": "text/x-python",
   "name": "python",
   "nbconvert_exporter": "python",
   "pygments_lexer": "ipython3",
   "version": "3.9.7"
  }
 },
 "nbformat": 4,
 "nbformat_minor": 5
}
