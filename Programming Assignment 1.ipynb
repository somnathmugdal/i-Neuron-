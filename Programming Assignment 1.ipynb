{
 "cells": [
  {
   "cell_type": "markdown",
   "id": "8521a6c7",
   "metadata": {},
   "source": [
    "# Programming Assignment 1"
   ]
  },
  {
   "cell_type": "code",
   "execution_count": 1,
   "id": "b7514bba",
   "metadata": {},
   "outputs": [
    {
     "name": "stdout",
     "output_type": "stream",
     "text": [
      "Hello Python\n"
     ]
    }
   ],
   "source": [
    "# Write a Python program to print \"Hello Python\"?\n",
    "print(\"Hello Python\")"
   ]
  },
  {
   "cell_type": "code",
   "execution_count": 2,
   "id": "33ebd5e8",
   "metadata": {},
   "outputs": [
    {
     "name": "stdout",
     "output_type": "stream",
     "text": [
      "Enter Number 1: 22\n",
      "Enter Number 2: 15\n",
      "Adddition of Numbers is :  37\n",
      "Division of Numbers is :  1.4666666666666666\n"
     ]
    }
   ],
   "source": [
    "# Write a Python program to do arithmetical operations addition and division.?\n",
    "num1 = int(input(\"Enter Number 1: \"))\n",
    "num2 = int(input(\"Enter Number 2: \"))\n",
    "add = num1 + num2\n",
    "div = num1 / num2\n",
    "\n",
    "print(\"Adddition of Numbers is : \",add)\n",
    "print(\"Division of Numbers is : \",div)"
   ]
  },
  {
   "cell_type": "code",
   "execution_count": 3,
   "id": "bad5580b",
   "metadata": {},
   "outputs": [
    {
     "name": "stdout",
     "output_type": "stream",
     "text": [
      "Enter Frist side :1.2\n",
      "Enter Second side :1.3\n",
      "Enter Third side :2.2\n",
      "Area of a triangle :  0.6524137874079607\n"
     ]
    }
   ],
   "source": [
    "# Write a Python program to find the area of a triangle?\n",
    "# mathematical formula - s*((s-a)*(s-b)*(s-c))-1/2\n",
    "a = float(input(\"Enter Frist side :\"))\n",
    "b = float(input(\"Enter Second side :\"))\n",
    "c = float(input(\"Enter Third side :\"))\n",
    "\n",
    "#s = semi perimeter\n",
    "s = (a + b + c) / 2\n",
    "\n",
    "#area\n",
    "area = (s*(s-a)*(s-b)*(s-c))**0.5\n",
    "\n",
    "print(\"Area of a triangle : \",area)"
   ]
  },
  {
   "cell_type": "code",
   "execution_count": 4,
   "id": "9f003a12",
   "metadata": {},
   "outputs": [
    {
     "name": "stdout",
     "output_type": "stream",
     "text": [
      "Enter Number 1 :4\n",
      "Enter Number 2 :6\n",
      "Number 1: 4  and  Number 2: 6\n",
      "Numbers Swapped!\n",
      "Number 1: 6  and  Number 2: 4\n"
     ]
    }
   ],
   "source": [
    "# Write a Python program to swap two variables?\n",
    "n1 = int(input(\"Enter Number 1 :\"))\n",
    "n2 = int(input(\"Enter Number 2 :\"))\n",
    "print(\"Number 1:\", n1,\" and \", \"Number 2:\",n2)\n",
    "\n",
    "temp = n1\n",
    "n1 = n2\n",
    "n2 = temp\n",
    "\n",
    "print(\"Numbers Swapped!\")\n",
    "print(\"Number 1:\", n1,\" and \", \"Number 2:\",n2)\n"
   ]
  },
  {
   "cell_type": "code",
   "execution_count": 5,
   "id": "1d1fb3c7",
   "metadata": {},
   "outputs": [
    {
     "name": "stdout",
     "output_type": "stream",
     "text": [
      "83\n"
     ]
    }
   ],
   "source": [
    "# Write a Python program to generate a random number?\n",
    "\n",
    "import random\n",
    "from random import randint\n",
    "\n",
    "rnd = random.randint(0,100)\n",
    "print(rnd)"
   ]
  },
  {
   "cell_type": "code",
   "execution_count": null,
   "id": "afe2c5f5",
   "metadata": {},
   "outputs": [],
   "source": []
  }
 ],
 "metadata": {
  "kernelspec": {
   "display_name": "Python 3 (ipykernel)",
   "language": "python",
   "name": "python3"
  },
  "language_info": {
   "codemirror_mode": {
    "name": "ipython",
    "version": 3
   },
   "file_extension": ".py",
   "mimetype": "text/x-python",
   "name": "python",
   "nbconvert_exporter": "python",
   "pygments_lexer": "ipython3",
   "version": "3.9.7"
  }
 },
 "nbformat": 4,
 "nbformat_minor": 5
}
