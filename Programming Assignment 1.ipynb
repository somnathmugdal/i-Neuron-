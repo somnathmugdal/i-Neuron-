{
 "cells": [
  {
   "cell_type": "markdown",
   "id": "9c442eff",
   "metadata": {},
   "source": [
    "# Programming Assignment 1"
   ]
  },
  {
   "cell_type": "code",
   "execution_count": 1,
   "id": "2dba1b5d",
   "metadata": {},
   "outputs": [
    {
     "name": "stdout",
     "output_type": "stream",
     "text": [
      "Hello Python\n"
     ]
    }
   ],
   "source": [
    "# Write a Python program to print \"Hello Python\"?\n",
    "print(\"Hello Python\")"
   ]
  },
  {
   "cell_type": "code",
   "execution_count": 2,
   "id": "0a44b143",
   "metadata": {},
   "outputs": [
    {
     "name": "stdout",
     "output_type": "stream",
     "text": [
      "Enter Number 1: 55\n",
      "Enter Number 2: 6\n",
      "Adddition of Numbers is :  61\n",
      "Division of Numbers is :  9.166666666666666\n"
     ]
    }
   ],
   "source": [
    "# Write a Python program to do arithmetical operations addition and division.?\n",
    "num1 = int(input(\"Enter Number 1: \"))\n",
    "num2 = int(input(\"Enter Number 2: \"))\n",
    "add = num1 + num2\n",
    "div = num1 / num2\n",
    "\n",
    "print(\"Adddition of Numbers is : \",add)\n",
    "print(\"Division of Numbers is : \",div)"
   ]
  },
  {
   "cell_type": "code",
   "execution_count": 3,
   "id": "e8cf99a4",
   "metadata": {},
   "outputs": [
    {
     "name": "stdout",
     "output_type": "stream",
     "text": [
      "Enter Frist side :5.6\n",
      "Enter Second side :5\n",
      "Enter Third side :6.6\n",
      "Area of a triangle :  13.629380029920656\n"
     ]
    }
   ],
   "source": [
    "# Write a Python program to find the area of a triangle?\n",
    "# mathematical formula - s*((s-a)*(s-b)*(s-c))-1/2\n",
    "a = float(input(\"Enter Frist side :\"))\n",
    "b = float(input(\"Enter Second side :\"))\n",
    "c = float(input(\"Enter Third side :\"))\n",
    "\n",
    "#s = semi perimeter\n",
    "s = (a + b + c) / 2\n",
    "\n",
    "#area\n",
    "area = (s*(s-a)*(s-b)*(s-c))**0.5\n",
    "\n",
    "print(\"Area of a triangle : \",area)"
   ]
  },
  {
   "cell_type": "code",
   "execution_count": 11,
   "id": "cdf86d14",
   "metadata": {},
   "outputs": [
    {
     "name": "stdout",
     "output_type": "stream",
     "text": [
      "Enter Number 1 :88\n",
      "Enter Number 2 :50\n",
      "Number 1: 88  and  Number 2: 50\n",
      "Numbers Swapped!\n",
      "Number 1: 50  and  Number 2: 88\n"
     ]
    }
   ],
   "source": [
    "# Write a Python program to swap two variables?\n",
    "n1 = int(input(\"Enter Number 1 :\"))\n",
    "n2 = int(input(\"Enter Number 2 :\"))\n",
    "print(\"Number 1:\", n1,\" and \", \"Number 2:\",n2)\n",
    "\n",
    "temp = n1\n",
    "n1 = n2\n",
    "n2 = temp\n",
    "\n",
    "print(\"Numbers Swapped!\")\n",
    "print(\"Number 1:\", n1,\" and \", \"Number 2:\",n2)\n"
   ]
  },
  {
   "cell_type": "code",
   "execution_count": null,
   "id": "072be10b",
   "metadata": {},
   "outputs": [],
   "source": [
    "# Write a Python program to generate a random number?\n",
    "\n",
    "import random\n",
    "from random import randint\n",
    "\n",
    "rnd = random.rndint"
   ]
  }
 ],
 "metadata": {
  "kernelspec": {
   "display_name": "Python 3 (ipykernel)",
   "language": "python",
   "name": "python3"
  },
  "language_info": {
   "codemirror_mode": {
    "name": "ipython",
    "version": 3
   },
   "file_extension": ".py",
   "mimetype": "text/x-python",
   "name": "python",
   "nbconvert_exporter": "python",
   "pygments_lexer": "ipython3",
   "version": "3.9.7"
  }
 },
 "nbformat": 4,
 "nbformat_minor": 5
}
