{
 "cells": [
  {
   "cell_type": "markdown",
   "id": "a388973b",
   "metadata": {},
   "source": [
    "# Programming Assignment 5"
   ]
  },
  {
   "cell_type": "markdown",
   "id": "7c73b5bb",
   "metadata": {},
   "source": [
    "### Write a Python Program to Find LCM?\n"
   ]
  },
  {
   "cell_type": "code",
   "execution_count": 7,
   "id": "f2a5e474",
   "metadata": {},
   "outputs": [
    {
     "name": "stdout",
     "output_type": "stream",
     "text": [
      "Enter Frist Number: 3\n",
      "Enter Second Number: 4\n",
      "The LCM of 3 and 4 is 12\n"
     ]
    }
   ],
   "source": [
    "x = int(input(\"Enter Frist Number: \"))\n",
    "y = int(input(\"Enter Second Number: \"))\n",
    "def lcm(x,y):\n",
    "    if x > y :\n",
    "        greatter = x\n",
    "    else: \n",
    "        greatter = y\n",
    "    while True:\n",
    "        if(greatter % x == 0) and (greatter % y == 0):\n",
    "            lcm = greatter\n",
    "            break\n",
    "        greatter += 1\n",
    "    return lcm\n",
    "    \n",
    "print(f\"The LCM of {x} and {y} is {lcm(x,y)}\")"
   ]
  },
  {
   "cell_type": "markdown",
   "id": "4f3c3ed6",
   "metadata": {},
   "source": [
    "### Write a Python Program to Find HCF?\n"
   ]
  },
  {
   "cell_type": "code",
   "execution_count": 11,
   "id": "cd5107c5",
   "metadata": {},
   "outputs": [
    {
     "name": "stdout",
     "output_type": "stream",
     "text": [
      "Enter Frist Number: 8\n",
      "Enter Second Number: 12\n",
      "The HCF of 8 and 12 is 4\n"
     ]
    }
   ],
   "source": [
    "x = int(input(\"Enter Frist Number: \"))\n",
    "y = int(input(\"Enter Second Number: \"))\n",
    "\n",
    "def hcf(x,y):\n",
    "    if x > y:\n",
    "        smaller = y\n",
    "    else:\n",
    "        smaller = x\n",
    "    for i in range(1,smaller+1):\n",
    "        if (x % i == 0) and (y % i == 0):\n",
    "            hcf = i\n",
    "    return hcf\n",
    "\n",
    "print(f\"The HCF of {x} and {y} is {hcf(x,y)}\")"
   ]
  },
  {
   "cell_type": "markdown",
   "id": "41d7e853",
   "metadata": {},
   "source": [
    "### Write a Python Program to Convert Decimal to Binary, Octal and Hexadecimal?\n"
   ]
  },
  {
   "cell_type": "code",
   "execution_count": 1,
   "id": "85a01185",
   "metadata": {},
   "outputs": [
    {
     "name": "stdout",
     "output_type": "stream",
     "text": [
      "Enter a Number: 12\n",
      "The Binary value of 12 is 0b1100\n",
      "The Octal value of 12 is 0o14\n",
      "The Hexadeciamal value of 12 is 0xc\n"
     ]
    }
   ],
   "source": [
    "num = int(input(\"Enter a Number: \"))\n",
    "\n",
    "binary = bin(num)\n",
    "octal = oct(num)\n",
    "hexadecimal = hex(num)\n",
    "\n",
    "print(f\"The Binary value of {num} is {binary}\")\n",
    "print(f\"The Octal value of {num} is {octal}\")\n",
    "print(f\"The Hexadeciamal value of {num} is {hexadecimal}\")"
   ]
  },
  {
   "cell_type": "markdown",
   "id": "40869368",
   "metadata": {},
   "source": [
    "### Write a Python Program To Find ASCII value of a character?\n"
   ]
  },
  {
   "cell_type": "code",
   "execution_count": 2,
   "id": "eede1091",
   "metadata": {},
   "outputs": [
    {
     "name": "stdout",
     "output_type": "stream",
     "text": [
      "Enter a string: \n",
      "Somnath\n",
      "S \t 83\n",
      "o \t 111\n",
      "m \t 109\n",
      "n \t 110\n",
      "a \t 97\n",
      "t \t 116\n",
      "h \t 104\n"
     ]
    }
   ],
   "source": [
    "print(\"Enter a string: \")\n",
    "string = input()\n",
    "\n",
    "for K in string:\n",
    "    ASCII =  ord(K)\n",
    "    print(f\"{K} \\t {ASCII}\")"
   ]
  },
  {
   "cell_type": "markdown",
   "id": "27435fe1",
   "metadata": {},
   "source": [
    "### Write a Python Program to Make a Simple Calculator with 4 basic mathematical operations?"
   ]
  },
  {
   "cell_type": "code",
   "execution_count": 11,
   "id": "01c1074b",
   "metadata": {},
   "outputs": [
    {
     "name": "stdout",
     "output_type": "stream",
     "text": [
      "Enter Frist Number:55\n",
      "Enter Second Number: 6\n",
      "Please Choose the operation.\n",
      "a. Addition\n",
      "b. Subtraction\n",
      "c. Multiplication\n",
      "d. Division\n",
      "Enter Choice [ a / b / c / d]: \n",
      " d\n",
      "55 / 6 : 9.166666666666666\n"
     ]
    }
   ],
   "source": [
    "x = int(input(\"Enter Frist Number:\"))\n",
    "y = int(input(\"Enter Second Number: \"))\n",
    "\n",
    "def add(x,y):\n",
    "    return x+y\n",
    "\n",
    "def sub(x,y):\n",
    "    return x-y\n",
    "\n",
    "def mul(x,y):\n",
    "    return x*y\n",
    "\n",
    "def div(x,y):\n",
    "    return x/y\n",
    "\n",
    "\n",
    "print(\"Please Choose the operation.\")\n",
    "print(\"a. Addition\")\n",
    "print(\"b. Subtraction\")\n",
    "print(\"c. Multiplication\")\n",
    "print(\"d. Division\")\n",
    "\n",
    "choice = input(\"Enter Choice [ a / b / c / d]: \\n \")\n",
    "if choice == 'a':\n",
    "    print(f\"{x} + {y} : {add(x,y)}\")\n",
    "elif choice == 'b':\n",
    "    print(f\"{x} - {y} : {sub(x,y)}\")\n",
    "elif choice == 'c':\n",
    "    print(f\"{x} * {y} : {mul(x,y)}\")\n",
    "elif choice == 'd':\n",
    "    print(f\"{x} / {y} : {div(x,y)}\")\n",
    "else: \n",
    "    print(\"Invalid ! Plaese choose correct operation.\")"
   ]
  },
  {
   "cell_type": "code",
   "execution_count": null,
   "id": "cefccac7",
   "metadata": {},
   "outputs": [],
   "source": []
  }
 ],
 "metadata": {
  "kernelspec": {
   "display_name": "Python 3 (ipykernel)",
   "language": "python",
   "name": "python3"
  },
  "language_info": {
   "codemirror_mode": {
    "name": "ipython",
    "version": 3
   },
   "file_extension": ".py",
   "mimetype": "text/x-python",
   "name": "python",
   "nbconvert_exporter": "python",
   "pygments_lexer": "ipython3",
   "version": "3.9.7"
  }
 },
 "nbformat": 4,
 "nbformat_minor": 5
}
