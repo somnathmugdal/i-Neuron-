{
 "cells": [
  {
   "cell_type": "markdown",
   "id": "481160aa",
   "metadata": {},
   "source": [
    "# Programming Assignment 2"
   ]
  },
  {
   "cell_type": "markdown",
   "id": "efe161b0",
   "metadata": {},
   "source": [
    "### Write a Python program to convert kilometers to miles?\n"
   ]
  },
  {
   "cell_type": "code",
   "execution_count": 5,
   "id": "e13b5273",
   "metadata": {},
   "outputs": [
    {
     "name": "stdout",
     "output_type": "stream",
     "text": [
      "Enter kilometer: 10\n",
      "10.0 kilometer is equal to 6.213699999999999 miles.\n"
     ]
    }
   ],
   "source": [
    "# miles = km * value ---> formula \n",
    "km = float(input(\"Enter kilometer: \"))\n",
    "value = 0.62137\n",
    "\n",
    "miles = km * value\n",
    "\n",
    "print(f\"{km} kilometer is equal to {miles} miles.\")"
   ]
  },
  {
   "cell_type": "markdown",
   "id": "526eed5a",
   "metadata": {},
   "source": [
    "### Write a Python program to convert Celsius to Fahrenheit?\n"
   ]
  },
  {
   "cell_type": "code",
   "execution_count": 6,
   "id": "78b84b4c",
   "metadata": {},
   "outputs": [
    {
     "name": "stdout",
     "output_type": "stream",
     "text": [
      "Enter Celsius : 5\n",
      "5.0 celsius is equal to 41.0 fahrenheit.\n"
     ]
    }
   ],
   "source": [
    "# fah = (cel*1.8)+32 ---> formula\n",
    "cel = float(input(\"Enter Celsius : \"))\n",
    "\n",
    "fah = (cel * 1.8) + 32\n",
    "\n",
    "print(f\"{cel} celsius is equal to {fah} fahrenheit.\")"
   ]
  },
  {
   "cell_type": "markdown",
   "id": "11330eda",
   "metadata": {},
   "source": [
    "### Write a Python program to display calendar?\n"
   ]
  },
  {
   "cell_type": "code",
   "execution_count": 7,
   "id": "08f8a3b4",
   "metadata": {},
   "outputs": [
    {
     "name": "stdout",
     "output_type": "stream",
     "text": [
      "Enter a Year: 2022\n",
      "Enter a Month: 6\n",
      "     June 2022\n",
      "Mo Tu We Th Fr Sa Su\n",
      "       1  2  3  4  5\n",
      " 6  7  8  9 10 11 12\n",
      "13 14 15 16 17 18 19\n",
      "20 21 22 23 24 25 26\n",
      "27 28 29 30\n",
      "\n"
     ]
    }
   ],
   "source": [
    "import calendar\n",
    "y = int(input(\"Enter a Year: \"))\n",
    "m = int(input(\"Enter a Month: \"))\n",
    "\n",
    "display_cal = calendar.month(y,m)\n",
    "print(display_cal)"
   ]
  },
  {
   "cell_type": "markdown",
   "id": "fd798f12",
   "metadata": {},
   "source": [
    "### Write a Python program to solve quadratic equation?\n"
   ]
  },
  {
   "cell_type": "raw",
   "id": "f5406b3e",
   "metadata": {},
   "source": [
    "ax2 + bx + c\n",
    "\n",
    "a ,b and c are real numbers\n",
    "\n",
    "-b-(b**2-4*a*c)/2*a\n",
    "\n",
    "-b+(b**2-4*a*c)/2*a\n"
   ]
  },
  {
   "cell_type": "code",
   "execution_count": 19,
   "id": "d874d974",
   "metadata": {},
   "outputs": [
    {
     "name": "stdout",
     "output_type": "stream",
     "text": [
      "Enter value of A: 1\n",
      "Enter value of B: 5\n",
      "Enter value of C: 6\n",
      "1\n",
      "The solutions are (-3+0j) and (-2+0j).\n"
     ]
    }
   ],
   "source": [
    "import cmath\n",
    "\n",
    "a = int(input(\"Enter value of A: \"))\n",
    "b = int(input(\"Enter value of B: \"))\n",
    "c = int(input(\"Enter value of C: \"))\n",
    "\n",
    "# Discriminant\n",
    "d = (b**2) - (4*a*c)\n",
    "print(d)\n",
    "\n",
    "e = cmath.sqrt(d)\n",
    "\n",
    "#solutions\n",
    "sol1 = (-b-(e))/(2*a)\n",
    "sol2 = (-b+(e))/(2*a)\n",
    "\n",
    "#printing the solutions\n",
    "print(f\"The solutions are {sol1} and {sol2}.\")"
   ]
  },
  {
   "cell_type": "markdown",
   "id": "05185f87",
   "metadata": {},
   "source": [
    "### Write a Python program to swap two variables without temp variable?\n"
   ]
  },
  {
   "cell_type": "code",
   "execution_count": 21,
   "id": "59c865ff",
   "metadata": {},
   "outputs": [
    {
     "name": "stdout",
     "output_type": "stream",
     "text": [
      "Enter X: 5\n",
      "Enter Y: 6\n",
      "Before Swappng\n",
      "X: 5\n",
      "Y: 6\n",
      "After Swapped..\n",
      "X: 6\n",
      "Y: 5\n"
     ]
    }
   ],
   "source": [
    "x = int(input(\"Enter X: \"))\n",
    "y = int(input(\"Enter Y: \"))\n",
    "print(\"Before Swappng\")\n",
    "print(\"X:\",x)\n",
    "print(\"Y:\",y)\n",
    "\n",
    "x = x + y\n",
    "y = x - y\n",
    "x = x - y\n",
    "\n",
    "print(\"After Swapped..\")\n",
    "print(\"X:\",x)\n",
    "print(\"Y:\",y)\n"
   ]
  },
  {
   "cell_type": "code",
   "execution_count": null,
   "id": "8aff1002",
   "metadata": {},
   "outputs": [],
   "source": []
  }
 ],
 "metadata": {
  "kernelspec": {
   "display_name": "Python 3 (ipykernel)",
   "language": "python",
   "name": "python3"
  },
  "language_info": {
   "codemirror_mode": {
    "name": "ipython",
    "version": 3
   },
   "file_extension": ".py",
   "mimetype": "text/x-python",
   "name": "python",
   "nbconvert_exporter": "python",
   "pygments_lexer": "ipython3",
   "version": "3.9.7"
  }
 },
 "nbformat": 4,
 "nbformat_minor": 5
}
