{
 "cells": [
  {
   "cell_type": "markdown",
   "id": "3cac1434",
   "metadata": {},
   "source": [
    "# Assignment 06"
   ]
  },
  {
   "cell_type": "markdown",
   "id": "8f036694",
   "metadata": {},
   "source": [
    "### 1. What are escape characters, and how do you use them?\n"
   ]
  },
  {
   "cell_type": "code",
   "execution_count": 5,
   "id": "ca6d2266",
   "metadata": {},
   "outputs": [],
   "source": [
    "# Escape characters are illigal charcters in the string, To insert illigal charcters we can use \\ (backslash) followed by those charcters.\n",
    "# if we want to add doule quote in the string then it looks as below:\n",
    "a = \"My name is \\\"Somnath\\\"\""
   ]
  },
  {
   "cell_type": "code",
   "execution_count": 6,
   "id": "0c50ca5a",
   "metadata": {},
   "outputs": [
    {
     "data": {
      "text/plain": [
       "'My name is \"Somnath\"'"
      ]
     },
     "execution_count": 6,
     "metadata": {},
     "output_type": "execute_result"
    }
   ],
   "source": [
    "a"
   ]
  },
  {
   "cell_type": "markdown",
   "id": "ecacefcb",
   "metadata": {},
   "source": [
    "### 2. What do the escape characters n and t stand for?\n"
   ]
  },
  {
   "cell_type": "markdown",
   "id": "de8bc646",
   "metadata": {},
   "source": [
    "n stands for new line \n",
    "\n",
    "t stands for tab "
   ]
  },
  {
   "cell_type": "markdown",
   "id": "5c5e5319",
   "metadata": {},
   "source": [
    "### 3. What is the way to include backslash characters in a string?\n"
   ]
  },
  {
   "cell_type": "raw",
   "id": "b40916f9",
   "metadata": {},
   "source": [
    "\\\\ is used for bakcslash."
   ]
  },
  {
   "cell_type": "markdown",
   "id": "cf0d9c51",
   "metadata": {},
   "source": [
    "### 4. The string \"Howl's Moving Castle\" is a correct value. Why isn't the single quote character in the word Howl's not escaped a problem?\n"
   ]
  },
  {
   "cell_type": "markdown",
   "id": "ad0adc0b",
   "metadata": {},
   "source": [
    "Because the string is in the double quotes so that for it's correct value."
   ]
  },
  {
   "cell_type": "markdown",
   "id": "97e81147",
   "metadata": {},
   "source": [
    "### 5. How do you write a string of newlines if you don't want to use the n character?\n"
   ]
  },
  {
   "cell_type": "markdown",
   "id": "07a5f161",
   "metadata": {},
   "source": [
    "with the help of multiline string we can write newlines without \\n escape charcter."
   ]
  },
  {
   "cell_type": "markdown",
   "id": "ed6d8928",
   "metadata": {},
   "source": [
    "### 6. What are the values of the given expressions?\n"
   ]
  },
  {
   "cell_type": "code",
   "execution_count": 55,
   "id": "e3d8bbca",
   "metadata": {},
   "outputs": [
    {
     "data": {
      "text/plain": [
       "'e'"
      ]
     },
     "execution_count": 55,
     "metadata": {},
     "output_type": "execute_result"
    }
   ],
   "source": [
    "'Hello, world!'[1]"
   ]
  },
  {
   "cell_type": "code",
   "execution_count": 57,
   "id": "4a2fe453",
   "metadata": {},
   "outputs": [
    {
     "data": {
      "text/plain": [
       "'Hello'"
      ]
     },
     "execution_count": 57,
     "metadata": {},
     "output_type": "execute_result"
    }
   ],
   "source": [
    "'Hello, world!'[0:5]"
   ]
  },
  {
   "cell_type": "code",
   "execution_count": 59,
   "id": "1da3220f",
   "metadata": {},
   "outputs": [
    {
     "data": {
      "text/plain": [
       "'Hello'"
      ]
     },
     "execution_count": 59,
     "metadata": {},
     "output_type": "execute_result"
    }
   ],
   "source": [
    "'Hello, world!'[:5]"
   ]
  },
  {
   "cell_type": "code",
   "execution_count": 61,
   "id": "55bb5d31",
   "metadata": {},
   "outputs": [
    {
     "data": {
      "text/plain": [
       "'lo, world!'"
      ]
     },
     "execution_count": 61,
     "metadata": {},
     "output_type": "execute_result"
    }
   ],
   "source": [
    "'Hello, world!'[3:]"
   ]
  },
  {
   "cell_type": "markdown",
   "id": "cd7617a7",
   "metadata": {},
   "source": [
    "### 7. What are the values of the following expressions?\n"
   ]
  },
  {
   "cell_type": "code",
   "execution_count": 62,
   "id": "e83da20e",
   "metadata": {},
   "outputs": [
    {
     "data": {
      "text/plain": [
       "'HELLO'"
      ]
     },
     "execution_count": 62,
     "metadata": {},
     "output_type": "execute_result"
    }
   ],
   "source": [
    "'Hello'.upper()"
   ]
  },
  {
   "cell_type": "code",
   "execution_count": 63,
   "id": "51dd6e98",
   "metadata": {},
   "outputs": [
    {
     "data": {
      "text/plain": [
       "True"
      ]
     },
     "execution_count": 63,
     "metadata": {},
     "output_type": "execute_result"
    }
   ],
   "source": [
    "'Hello'.upper().isupper()"
   ]
  },
  {
   "cell_type": "code",
   "execution_count": 65,
   "id": "fd768dea",
   "metadata": {},
   "outputs": [
    {
     "data": {
      "text/plain": [
       "'hello'"
      ]
     },
     "execution_count": 65,
     "metadata": {},
     "output_type": "execute_result"
    }
   ],
   "source": [
    "'Hello'.upper().lower()"
   ]
  },
  {
   "cell_type": "markdown",
   "id": "7abf8298",
   "metadata": {},
   "source": [
    "### 8. What are the values of the following expressions?"
   ]
  },
  {
   "cell_type": "code",
   "execution_count": 66,
   "id": "581bf307",
   "metadata": {},
   "outputs": [
    {
     "data": {
      "text/plain": [
       "['Remember,', 'remember,', 'the', 'fifth', 'of', 'July.']"
      ]
     },
     "execution_count": 66,
     "metadata": {},
     "output_type": "execute_result"
    }
   ],
   "source": [
    "'Remember, remember, the fifth of July.'.split()"
   ]
  },
  {
   "cell_type": "code",
   "execution_count": 67,
   "id": "a49e62d6",
   "metadata": {},
   "outputs": [
    {
     "data": {
      "text/plain": [
       "'There-can-only-one.'"
      ]
     },
     "execution_count": 67,
     "metadata": {},
     "output_type": "execute_result"
    }
   ],
   "source": [
    "'-'.join('There can only one.'.split())"
   ]
  },
  {
   "cell_type": "markdown",
   "id": "c0f75308",
   "metadata": {},
   "source": [
    "### 9. What are the methods for right-justifying, left-justifying, and centering a string?"
   ]
  },
  {
   "cell_type": "markdown",
   "id": "cc2c1534",
   "metadata": {},
   "source": [
    "rjust(), ljust() and center() string methods respectively."
   ]
  },
  {
   "cell_type": "markdown",
   "id": "a9c3aa7a",
   "metadata": {},
   "source": [
    "### 10. What is the best way to remove whitespace characters from the start or end?\n"
   ]
  },
  {
   "cell_type": "markdown",
   "id": "0f156678",
   "metadata": {},
   "source": [
    "There are strip() method for remove whitespaces also rstrip() and lstrip() remove whitespcaes from right and left side of the string respectively."
   ]
  },
  {
   "cell_type": "code",
   "execution_count": null,
   "id": "b14137e6",
   "metadata": {},
   "outputs": [],
   "source": []
  }
 ],
 "metadata": {
  "kernelspec": {
   "display_name": "Python 3 (ipykernel)",
   "language": "python",
   "name": "python3"
  },
  "language_info": {
   "codemirror_mode": {
    "name": "ipython",
    "version": 3
   },
   "file_extension": ".py",
   "mimetype": "text/x-python",
   "name": "python",
   "nbconvert_exporter": "python",
   "pygments_lexer": "ipython3",
   "version": "3.9.7"
  }
 },
 "nbformat": 4,
 "nbformat_minor": 5
}
