{
 "cells": [
  {
   "cell_type": "markdown",
   "id": "271c4835",
   "metadata": {},
   "source": [
    "\n",
    "# Assignemnet 02\n"
   ]
  },
  {
   "cell_type": "markdown",
   "id": "6200bde6",
   "metadata": {},
   "source": [
    "1.What are the two values of the Boolean data type? How do you write them?"
   ]
  },
  {
   "cell_type": "markdown",
   "id": "52757e3c",
   "metadata": {},
   "source": [
    "Ans:\n",
    "The two values are TRUE and FALSE in the Boolean data type.\n",
    "We can write them in multiple ways. we can directly declared in the specific varibels or gives a condition which returns the Boolean value which is TRUE or FALSE."
   ]
  },
  {
   "cell_type": "code",
   "execution_count": 4,
   "id": "26df018b",
   "metadata": {},
   "outputs": [],
   "source": [
    "a = True\n",
    "b = False"
   ]
  },
  {
   "cell_type": "code",
   "execution_count": 5,
   "id": "85993698",
   "metadata": {},
   "outputs": [
    {
     "data": {
      "text/plain": [
       "bool"
      ]
     },
     "execution_count": 5,
     "metadata": {},
     "output_type": "execute_result"
    }
   ],
   "source": [
    "type(a) "
   ]
  },
  {
   "cell_type": "code",
   "execution_count": 6,
   "id": "f09f9824",
   "metadata": {},
   "outputs": [
    {
     "data": {
      "text/plain": [
       "bool"
      ]
     },
     "execution_count": 6,
     "metadata": {},
     "output_type": "execute_result"
    }
   ],
   "source": [
    "type(b)"
   ]
  },
  {
   "cell_type": "code",
   "execution_count": 7,
   "id": "35ed7c76",
   "metadata": {},
   "outputs": [],
   "source": [
    "a = 10\n",
    "b = 15"
   ]
  },
  {
   "cell_type": "code",
   "execution_count": 8,
   "id": "cdbb2170",
   "metadata": {},
   "outputs": [
    {
     "data": {
      "text/plain": [
       "True"
      ]
     },
     "execution_count": 8,
     "metadata": {},
     "output_type": "execute_result"
    }
   ],
   "source": [
    "a < b"
   ]
  },
  {
   "cell_type": "code",
   "execution_count": 9,
   "id": "8dfd20bc",
   "metadata": {},
   "outputs": [
    {
     "data": {
      "text/plain": [
       "False"
      ]
     },
     "execution_count": 9,
     "metadata": {},
     "output_type": "execute_result"
    }
   ],
   "source": [
    "a > b"
   ]
  },
  {
   "cell_type": "markdown",
   "id": "a19c70d2",
   "metadata": {},
   "source": [
    "2. What are the three different types of Boolean operators?"
   ]
  },
  {
   "cell_type": "markdown",
   "id": "27e3095f",
   "metadata": {},
   "source": [
    "AND : This operator returns false if any input value is false else returns true\n",
    "\n",
    "OR : This operator return true if any input value is true else return false\n",
    "\n",
    "NOT : This operator return the negation of the input value and it takes only one argument\n",
    "ie. True for False and False for True"
   ]
  },
  {
   "cell_type": "markdown",
   "id": "802dc9df",
   "metadata": {},
   "source": [
    "3. Make a list of each Boolean operator's truth tables (i.e. every possible combination of Boolean values for the operator and what it evaluate )."
   ]
  },
  {
   "cell_type": "markdown",
   "id": "e23f774a",
   "metadata": {},
   "source": [
    "T : TRUE\n",
    "\n",
    "F : FALSE\n",
    "\n",
    "INPUT AND OR NOT(A)\n",
    "\n",
    "A B\n",
    "\n",
    "T T    T  T  F\n",
    "\n",
    "T F    F  T  F\n",
    "\n",
    "F T    F  T  T  \n",
    "\n",
    "F F    F  F  T"
   ]
  },
  {
   "cell_type": "markdown",
   "id": "efc9bfdc",
   "metadata": {},
   "source": [
    "4. What are the values of the following expressions?\n",
    "\n",
    "(5 > 4) and (3 == 5) : TRUE and FALSE : FALSE\n",
    "\n",
    "not (5 > 4) : NOT TRUE : FALSE\n",
    "\n",
    "(5 > 4) or (3 == 5) : TRUE OR FALSE : TRUE \n",
    "\n",
    "not ((5 > 4) or (3 == 5)) : NOT (TRUE OR FALSE) : NOT TRUE : FALSE\n",
    "\n",
    "(True and True) and (True == False) : TRUE AND FALSE : FALSE\n",
    "\n",
    "(not False) or (not True) : TRUE OR FALSE : TRUE\n"
   ]
  },
  {
   "cell_type": "code",
   "execution_count": 18,
   "id": "48e757ef",
   "metadata": {},
   "outputs": [
    {
     "data": {
      "text/plain": [
       "False"
      ]
     },
     "execution_count": 18,
     "metadata": {},
     "output_type": "execute_result"
    }
   ],
   "source": [
    "(5 > 4) and (3 == 5)"
   ]
  },
  {
   "cell_type": "code",
   "execution_count": 19,
   "id": "7df1cf64",
   "metadata": {},
   "outputs": [
    {
     "data": {
      "text/plain": [
       "False"
      ]
     },
     "execution_count": 19,
     "metadata": {},
     "output_type": "execute_result"
    }
   ],
   "source": [
    "not (5 > 4)"
   ]
  },
  {
   "cell_type": "code",
   "execution_count": 20,
   "id": "573810bd",
   "metadata": {},
   "outputs": [
    {
     "data": {
      "text/plain": [
       "True"
      ]
     },
     "execution_count": 20,
     "metadata": {},
     "output_type": "execute_result"
    }
   ],
   "source": [
    "(5 > 4) or (3 == 5)"
   ]
  },
  {
   "cell_type": "code",
   "execution_count": 21,
   "id": "fd72e64d",
   "metadata": {},
   "outputs": [
    {
     "data": {
      "text/plain": [
       "False"
      ]
     },
     "execution_count": 21,
     "metadata": {},
     "output_type": "execute_result"
    }
   ],
   "source": [
    "not ((5 > 4) or (3 == 5))"
   ]
  },
  {
   "cell_type": "code",
   "execution_count": 22,
   "id": "ddf9a6c4",
   "metadata": {},
   "outputs": [
    {
     "data": {
      "text/plain": [
       "False"
      ]
     },
     "execution_count": 22,
     "metadata": {},
     "output_type": "execute_result"
    }
   ],
   "source": [
    "(True and True) and (True == False)"
   ]
  },
  {
   "cell_type": "code",
   "execution_count": 23,
   "id": "b9905629",
   "metadata": {},
   "outputs": [
    {
     "data": {
      "text/plain": [
       "True"
      ]
     },
     "execution_count": 23,
     "metadata": {},
     "output_type": "execute_result"
    }
   ],
   "source": [
    "(not False) or (not True)"
   ]
  },
  {
   "cell_type": "markdown",
   "id": "501aa9da",
   "metadata": {},
   "source": [
    "5. What are the six comparison operators?"
   ]
  },
  {
   "cell_type": "markdown",
   "id": "92dd8dd3",
   "metadata": {},
   "source": [
    "\n",
    "< : Less than\n",
    "    \n",
    "> : Greatter than\n",
    "    \n",
    "== : Equal to \n",
    "    \n",
    "<= : Less than Equal to\n",
    "    \n",
    ">= : Greatter than Equal to\n",
    "    \n",
    "!= : Not Equal to"
   ]
  },
  {
   "cell_type": "markdown",
   "id": "2859fb29",
   "metadata": {},
   "source": [
    "6. How do you tell the difference between the equal to and assignment operators? Describe a condition and when you would use one. "
   ]
  },
  {
   "cell_type": "markdown",
   "id": "ffaa14d6",
   "metadata": {},
   "source": [
    "equal to(==) is comparision operator which checks the value and returns boolean if it is true or false with another where assignment(=) operator assign or declared the value for a varible."
   ]
  },
  {
   "cell_type": "code",
   "execution_count": 28,
   "id": "42e075de",
   "metadata": {},
   "outputs": [],
   "source": [
    "a = 10 # assignment operator"
   ]
  },
  {
   "cell_type": "code",
   "execution_count": 29,
   "id": "f2b905e9",
   "metadata": {},
   "outputs": [
    {
     "data": {
      "text/plain": [
       "10"
      ]
     },
     "execution_count": 29,
     "metadata": {},
     "output_type": "execute_result"
    }
   ],
   "source": [
    "a"
   ]
  },
  {
   "cell_type": "code",
   "execution_count": 31,
   "id": "998d92b1",
   "metadata": {},
   "outputs": [
    {
     "data": {
      "text/plain": [
       "False"
      ]
     },
     "execution_count": 31,
     "metadata": {},
     "output_type": "execute_result"
    }
   ],
   "source": [
    "a == 15 #eual to: comparison operator"
   ]
  },
  {
   "cell_type": "code",
   "execution_count": 35,
   "id": "65724bea",
   "metadata": {},
   "outputs": [
    {
     "name": "stdout",
     "output_type": "stream",
     "text": [
      "ham\n",
      "spam\n",
      "spam\n"
     ]
    }
   ],
   "source": [
    "# 7. Identify the three blocks in this code:\n",
    "#assigning block : declaring the value of varibale spam\n",
    "spam = 0 \n",
    "\n",
    "#if condition block : checks spam is eual to 10 or not if it is 10 then print \"eggs\"  \n",
    "if spam == 10:\n",
    "    print('eggs')\n",
    "\n",
    "'''\n",
    "if else condition block : checks spam is greatter than 5.\n",
    "if it is greatter than 5 then print \"bacon\" else print \"ham\",\"spam\",\"spam\".\n",
    "'''\n",
    "if spam > 5:\n",
    "    print('bacon')\n",
    "else:\n",
    "    print('ham')\n",
    "    print('spam')\n",
    "    print('spam')\n"
   ]
  },
  {
   "cell_type": "markdown",
   "id": "4856d35a",
   "metadata": {},
   "source": [
    "8. Write code that prints Hello if 1 is stored in spam, prints Howdy if 2 is stored in spam, and prints Greetings! if anything else is stored in spam."
   ]
  },
  {
   "cell_type": "code",
   "execution_count": 37,
   "id": "46bdeae2",
   "metadata": {},
   "outputs": [
    {
     "name": "stdout",
     "output_type": "stream",
     "text": [
      "Howdy\n"
     ]
    }
   ],
   "source": [
    "spam = 2\n",
    "if spam == 1:\n",
    "    print(\"Hello\")\n",
    "elif spam == 2:\n",
    "    print(\"Howdy\")\n",
    "else:\n",
    "    print(\"Greetings!\")"
   ]
  },
  {
   "cell_type": "markdown",
   "id": "167bd170",
   "metadata": {},
   "source": [
    "9.If your programme is stuck in an endless loop, what keys you’ll press?\n",
    "\n",
    "In Jupyter we have to restart the kernel for different IDE we have to press CTR + C"
   ]
  },
  {
   "cell_type": "markdown",
   "id": "68751042",
   "metadata": {},
   "source": [
    "10. How can you tell the difference between break and continue?"
   ]
  },
  {
   "cell_type": "markdown",
   "id": "3ff80217",
   "metadata": {},
   "source": [
    "Break : leaves the loop, skips the reamianing execution of complete loop,its useful when we the condition always true \n",
    "\n",
    "Continue : jumps to next iteration, skips the execution of current condition,we can use when we have to skips some conditions"
   ]
  },
  {
   "cell_type": "markdown",
   "id": "faae1fce",
   "metadata": {},
   "source": [
    "11. In a for loop, what is the difference between range(10), range(0, 10), and range(0, 10, 1)?"
   ]
  },
  {
   "cell_type": "markdown",
   "id": "fa213717",
   "metadata": {},
   "source": [
    "In the range of for loop,\n",
    "\n",
    "range(10) - Here 10 is considered as upper_bound(Stop) of the range function and lower_bound is takes as default value which can be 0. The upper_bound is always excluding means the range(10) returns 0 to 9 not till 10.\n",
    "\n",
    "range(0,10) - Same as above, Here 0 and 10 is considered as lowwer_bound(Start) and upper_bound(Stop) respectively.The upper_bound is always excluding means the range(0,10) returns 0 to 9 not till 10.\n",
    "\n",
    "range(0,10,1) - Here 0,10 and 1 are upper_bound(Start), lower_bound(Stop) and step. step means incrementation the default value is 1."
   ]
  },
  {
   "cell_type": "markdown",
   "id": "56669da7",
   "metadata": {},
   "source": [
    "12. Write a short program that prints the numbers 1 to 10 using a for loop. Then write an equivalent program that prints the numbers 1 to 10 using a while loop."
   ]
  },
  {
   "cell_type": "code",
   "execution_count": 6,
   "id": "08bb2de1",
   "metadata": {},
   "outputs": [
    {
     "name": "stdout",
     "output_type": "stream",
     "text": [
      "1\n",
      "2\n",
      "3\n",
      "4\n",
      "5\n",
      "6\n",
      "7\n",
      "8\n",
      "9\n",
      "10\n"
     ]
    }
   ],
   "source": [
    "for i in range(1,11):\n",
    "    print(i)"
   ]
  },
  {
   "cell_type": "code",
   "execution_count": 8,
   "id": "0cd4ad21",
   "metadata": {},
   "outputs": [
    {
     "name": "stdout",
     "output_type": "stream",
     "text": [
      "1\n",
      "2\n",
      "3\n",
      "4\n",
      "5\n",
      "6\n",
      "7\n",
      "8\n",
      "9\n",
      "10\n"
     ]
    }
   ],
   "source": [
    "i = 1\n",
    "while i <= 10:\n",
    "    print(i)\n",
    "    i += 1"
   ]
  },
  {
   "cell_type": "markdown",
   "id": "1278a18a",
   "metadata": {},
   "source": [
    "13. If you had a function named bacon() inside a module named spam, how would you call it after importing spam?\n",
    "\n",
    "spam.bacon()"
   ]
  },
  {
   "cell_type": "code",
   "execution_count": null,
   "id": "0af55e8b",
   "metadata": {},
   "outputs": [],
   "source": []
  }
 ],
 "metadata": {
  "kernelspec": {
   "display_name": "Python 3 (ipykernel)",
   "language": "python",
   "name": "python3"
  },
  "language_info": {
   "codemirror_mode": {
    "name": "ipython",
    "version": 3
   },
   "file_extension": ".py",
   "mimetype": "text/x-python",
   "name": "python",
   "nbconvert_exporter": "python",
   "pygments_lexer": "ipython3",
   "version": "3.9.7"
  }
 },
 "nbformat": 4,
 "nbformat_minor": 5
}
