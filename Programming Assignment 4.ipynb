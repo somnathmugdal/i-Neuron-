{
 "cells": [
  {
   "cell_type": "markdown",
   "id": "45a6a0c3",
   "metadata": {},
   "source": [
    "# Programming Assignment 4"
   ]
  },
  {
   "cell_type": "markdown",
   "id": "3273621d",
   "metadata": {},
   "source": [
    "### Write a Python Program to Find the Factorial of a Number?\n"
   ]
  },
  {
   "cell_type": "code",
   "execution_count": 37,
   "id": "6ef0d504",
   "metadata": {},
   "outputs": [
    {
     "name": "stdout",
     "output_type": "stream",
     "text": [
      "Enter a Number: 5\n",
      "The factorial of 5 is 120.\n"
     ]
    }
   ],
   "source": [
    "num = int(input(\"Enter a Number: \"))\n",
    "fact = 1\n",
    "\n",
    "if num < 0:\n",
    "    print(\"Factorial does not exits for negative number.\")\n",
    "elif num == 0:\n",
    "    print(\"The factorial of 0 is 1.\")\n",
    "else:\n",
    "    for i in range(1,num+1):\n",
    "        fact = fact * i\n",
    "    print(f\"The factorial of {num} is {fact}.\")"
   ]
  },
  {
   "cell_type": "markdown",
   "id": "cd45d34e",
   "metadata": {},
   "source": [
    "### Write a Python Program to Display the multiplication Table?\n"
   ]
  },
  {
   "cell_type": "code",
   "execution_count": 38,
   "id": "7af23306",
   "metadata": {},
   "outputs": [
    {
     "name": "stdout",
     "output_type": "stream",
     "text": [
      "Enter a number:5\n",
      "Multiplication Table of  5\n",
      "5 * 1 : 5\n",
      "5 * 2 : 10\n",
      "5 * 3 : 15\n",
      "5 * 4 : 20\n",
      "5 * 5 : 25\n",
      "5 * 6 : 30\n",
      "5 * 7 : 35\n",
      "5 * 8 : 40\n",
      "5 * 9 : 45\n",
      "5 * 10 : 50\n"
     ]
    }
   ],
   "source": [
    "num = int(input(\"Enter a number:\"))\n",
    "print(\"Multiplication Table of \",num)\n",
    "ans = 0\n",
    "for i in range(1,11):\n",
    "    ans = num * i\n",
    "    print(f\"{num} * {i} : {ans}\")"
   ]
  },
  {
   "cell_type": "markdown",
   "id": "fab5f21f",
   "metadata": {},
   "source": [
    "### Write a Python Program to Print the Fibonacci sequence?\n"
   ]
  },
  {
   "cell_type": "code",
   "execution_count": 50,
   "id": "187f1369",
   "metadata": {},
   "outputs": [
    {
     "name": "stdout",
     "output_type": "stream",
     "text": [
      "How many terms?5\n",
      "Fibonacci series\n",
      "0\n",
      "1\n",
      "1\n",
      "2\n",
      "3\n"
     ]
    }
   ],
   "source": [
    "nterms = int(input(\"How many terms?\"))\n",
    "n1,n2 = 0,1\n",
    "count = 0\n",
    "\n",
    "if nterms < 0:\n",
    "    print(\"Enter nterms only positive.\")\n",
    "elif nterms == 0:\n",
    "    print(\"Fibonacci series upto\")\n",
    "    print(n1)\n",
    "else:\n",
    "    print(\"Fibonacci series\")\n",
    "    while count < nterms :\n",
    "        print(n1)\n",
    "        nth = n1 + n2\n",
    "#         updates value\n",
    "        n1 = n2\n",
    "        n2 = nth\n",
    "        count += 1"
   ]
  },
  {
   "cell_type": "markdown",
   "id": "942a3ed0",
   "metadata": {},
   "source": [
    "### Write a Python Program to Check Armstrong Number?\n"
   ]
  },
  {
   "cell_type": "code",
   "execution_count": 92,
   "id": "0753a115",
   "metadata": {},
   "outputs": [
    {
     "name": "stdout",
     "output_type": "stream",
     "text": [
      "Enter a Number: 9474\n",
      "The number is an Armstong number.\n"
     ]
    }
   ],
   "source": [
    "num = int(input(\"Enter a Number: \"))\n",
    "sum = 0\n",
    "order = len(str(num))\n",
    "\n",
    "temp = num\n",
    "while temp > 0:\n",
    "    digit = temp % 10\n",
    "    sum += digit ** order\n",
    "    temp //= 10\n",
    "    \n",
    "if num == sum:\n",
    "    print(\"The number is an Armstong number.\")\n",
    "else:\n",
    "    print(\"The number is an not an Armstrong number.\")"
   ]
  },
  {
   "cell_type": "markdown",
   "id": "22584794",
   "metadata": {},
   "source": [
    "### Write a Python Program to Find Armstrong Number in an Interval?\n"
   ]
  },
  {
   "cell_type": "code",
   "execution_count": 85,
   "id": "9856d93f",
   "metadata": {},
   "outputs": [
    {
     "name": "stdout",
     "output_type": "stream",
     "text": [
      "1 2 3 4 5 6 7 8 9 153 370 371 407 1634 8208 9474 "
     ]
    }
   ],
   "source": [
    "# Interval 1 ---> 10001\n",
    "for num in range(1,10001):\n",
    "    sum = 0\n",
    "    order = len(str(num))\n",
    "    \n",
    "    temp = num\n",
    "    while temp > 0:\n",
    "        digit = temp % 10\n",
    "        sum += digit ** order\n",
    "        temp //= 10\n",
    "        \n",
    "    if num == sum:\n",
    "        print(num,end= \" \")"
   ]
  },
  {
   "cell_type": "markdown",
   "id": "f60997c2",
   "metadata": {},
   "source": [
    "### Write a Python Program to Find the Sum of Natural Numbers?\n"
   ]
  },
  {
   "cell_type": "code",
   "execution_count": 108,
   "id": "736bd79b",
   "metadata": {},
   "outputs": [
    {
     "name": "stdout",
     "output_type": "stream",
     "text": [
      "Enter a Number:4456\n",
      "Sum of Natural Numbers : 9930196\n"
     ]
    }
   ],
   "source": [
    "num = int(input(\"Enter a Number:\"))\n",
    "if num < 0:\n",
    "    print(\"Enter positive integers only.\")\n",
    "else:\n",
    "    sum = 0\n",
    "    while num > 0:\n",
    "        sum += num\n",
    "        num -= 1\n",
    "    print(\"Sum of Natural Numbers :\",sum)"
   ]
  },
  {
   "cell_type": "code",
   "execution_count": null,
   "id": "fd5f00e1",
   "metadata": {},
   "outputs": [],
   "source": []
  }
 ],
 "metadata": {
  "kernelspec": {
   "display_name": "Python 3 (ipykernel)",
   "language": "python",
   "name": "python3"
  },
  "language_info": {
   "codemirror_mode": {
    "name": "ipython",
    "version": 3
   },
   "file_extension": ".py",
   "mimetype": "text/x-python",
   "name": "python",
   "nbconvert_exporter": "python",
   "pygments_lexer": "ipython3",
   "version": "3.9.7"
  }
 },
 "nbformat": 4,
 "nbformat_minor": 5
}
